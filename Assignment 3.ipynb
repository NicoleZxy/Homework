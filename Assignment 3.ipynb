{
 "cells": [
  {
   "cell_type": "code",
   "execution_count": 1,
   "metadata": {},
   "outputs": [],
   "source": [
    "import pandas as pd\n",
    "import statsmodels.api as sm\n",
    "import numpy as np\n",
    "import matplotlib.pyplot as plt"
   ]
  },
  {
   "cell_type": "markdown",
   "metadata": {},
   "source": [
    "## Load the data and get basic information"
   ]
  },
  {
   "cell_type": "code",
   "execution_count": 2,
   "metadata": {},
   "outputs": [
    {
     "name": "stdout",
     "output_type": "stream",
     "text": [
      "<class 'pandas.core.frame.DataFrame'>\n",
      "RangeIndex: 14987 entries, 0 to 14986\n",
      "Data columns (total 10 columns):\n",
      " #   Column                       Non-Null Count  Dtype         \n",
      "---  ------                       --------------  -----         \n",
      " 0   DATETIME                     14987 non-null  datetime64[ns]\n",
      " 1   HB_NORTH (RTLMP)             14987 non-null  float64       \n",
      " 2   ERCOT (WIND_RTI)             14982 non-null  float64       \n",
      " 3   ERCOT (GENERATION_SOLAR_RT)  14983 non-null  float64       \n",
      " 4   ERCOT (RTLOAD)               14987 non-null  float64       \n",
      " 5   HOURENDING                   14987 non-null  int64         \n",
      " 6   MARKETDAY                    14987 non-null  datetime64[ns]\n",
      " 7   PEAKTYPE                     14987 non-null  object        \n",
      " 8   MONTH                        14987 non-null  object        \n",
      " 9   YEAR                         14987 non-null  int64         \n",
      "dtypes: datetime64[ns](2), float64(4), int64(2), object(2)\n",
      "memory usage: 1.1+ MB\n"
     ]
    }
   ],
   "source": [
    "df = pd.read_excel(\"data/Assignment 3 - timeseries_data.xlsx\")\n",
    "df.info()"
   ]
  },
  {
   "cell_type": "markdown",
   "metadata": {},
   "source": [
    "## Drop the unused columns and na values"
   ]
  },
  {
   "cell_type": "code",
   "execution_count": 3,
   "metadata": {},
   "outputs": [
    {
     "data": {
      "text/html": [
       "<div>\n",
       "<style scoped>\n",
       "    .dataframe tbody tr th:only-of-type {\n",
       "        vertical-align: middle;\n",
       "    }\n",
       "\n",
       "    .dataframe tbody tr th {\n",
       "        vertical-align: top;\n",
       "    }\n",
       "\n",
       "    .dataframe thead th {\n",
       "        text-align: right;\n",
       "    }\n",
       "</style>\n",
       "<table border=\"1\" class=\"dataframe\">\n",
       "  <thead>\n",
       "    <tr style=\"text-align: right;\">\n",
       "      <th></th>\n",
       "      <th>DATETIME</th>\n",
       "      <th>HB_NORTH (RTLMP)</th>\n",
       "      <th>ERCOT (WIND_RTI)</th>\n",
       "      <th>ERCOT (GENERATION_SOLAR_RT)</th>\n",
       "      <th>ERCOT (RTLOAD)</th>\n",
       "      <th>PEAKTYPE</th>\n",
       "    </tr>\n",
       "  </thead>\n",
       "  <tbody>\n",
       "    <tr>\n",
       "      <th>0</th>\n",
       "      <td>2017-01-01 01:00:00</td>\n",
       "      <td>23.3575</td>\n",
       "      <td>2155.31</td>\n",
       "      <td>0.0</td>\n",
       "      <td>29485.791355</td>\n",
       "      <td>OFFPEAK</td>\n",
       "    </tr>\n",
       "    <tr>\n",
       "      <th>1</th>\n",
       "      <td>2017-01-01 02:00:00</td>\n",
       "      <td>21.4650</td>\n",
       "      <td>2313.81</td>\n",
       "      <td>0.0</td>\n",
       "      <td>28911.565913</td>\n",
       "      <td>OFFPEAK</td>\n",
       "    </tr>\n",
       "    <tr>\n",
       "      <th>2</th>\n",
       "      <td>2017-01-01 03:00:00</td>\n",
       "      <td>20.7350</td>\n",
       "      <td>2587.68</td>\n",
       "      <td>0.0</td>\n",
       "      <td>28238.258175</td>\n",
       "      <td>OFFPEAK</td>\n",
       "    </tr>\n",
       "    <tr>\n",
       "      <th>3</th>\n",
       "      <td>2017-01-01 04:00:00</td>\n",
       "      <td>20.2700</td>\n",
       "      <td>2748.65</td>\n",
       "      <td>0.0</td>\n",
       "      <td>27821.000513</td>\n",
       "      <td>OFFPEAK</td>\n",
       "    </tr>\n",
       "    <tr>\n",
       "      <th>4</th>\n",
       "      <td>2017-01-01 05:00:00</td>\n",
       "      <td>20.1200</td>\n",
       "      <td>2757.49</td>\n",
       "      <td>0.0</td>\n",
       "      <td>27646.942413</td>\n",
       "      <td>OFFPEAK</td>\n",
       "    </tr>\n",
       "  </tbody>\n",
       "</table>\n",
       "</div>"
      ],
      "text/plain": [
       "             DATETIME  HB_NORTH (RTLMP)  ERCOT (WIND_RTI)  \\\n",
       "0 2017-01-01 01:00:00           23.3575           2155.31   \n",
       "1 2017-01-01 02:00:00           21.4650           2313.81   \n",
       "2 2017-01-01 03:00:00           20.7350           2587.68   \n",
       "3 2017-01-01 04:00:00           20.2700           2748.65   \n",
       "4 2017-01-01 05:00:00           20.1200           2757.49   \n",
       "\n",
       "   ERCOT (GENERATION_SOLAR_RT)  ERCOT (RTLOAD) PEAKTYPE  \n",
       "0                          0.0    29485.791355  OFFPEAK  \n",
       "1                          0.0    28911.565913  OFFPEAK  \n",
       "2                          0.0    28238.258175  OFFPEAK  \n",
       "3                          0.0    27821.000513  OFFPEAK  \n",
       "4                          0.0    27646.942413  OFFPEAK  "
      ]
     },
     "execution_count": 3,
     "metadata": {},
     "output_type": "execute_result"
    }
   ],
   "source": [
    "df.drop(columns=['HOURENDING', \"MARKETDAY\", 'MONTH', \"YEAR\"], inplace=True)\n",
    "df.dropna(inplace=True)\n",
    "df.head()"
   ]
  },
  {
   "cell_type": "markdown",
   "metadata": {},
   "source": [
    "## Examine the data distribution"
   ]
  },
  {
   "cell_type": "code",
   "execution_count": 4,
   "metadata": {},
   "outputs": [
    {
     "data": {
      "text/html": [
       "<div>\n",
       "<style scoped>\n",
       "    .dataframe tbody tr th:only-of-type {\n",
       "        vertical-align: middle;\n",
       "    }\n",
       "\n",
       "    .dataframe tbody tr th {\n",
       "        vertical-align: top;\n",
       "    }\n",
       "\n",
       "    .dataframe thead th {\n",
       "        text-align: right;\n",
       "    }\n",
       "</style>\n",
       "<table border=\"1\" class=\"dataframe\">\n",
       "  <thead>\n",
       "    <tr style=\"text-align: right;\">\n",
       "      <th></th>\n",
       "      <th>HB_NORTH (RTLMP)</th>\n",
       "      <th>ERCOT (WIND_RTI)</th>\n",
       "      <th>ERCOT (GENERATION_SOLAR_RT)</th>\n",
       "      <th>ERCOT (RTLOAD)</th>\n",
       "    </tr>\n",
       "  </thead>\n",
       "  <tbody>\n",
       "    <tr>\n",
       "      <th>count</th>\n",
       "      <td>14981.000000</td>\n",
       "      <td>14981.000000</td>\n",
       "      <td>14981.000000</td>\n",
       "      <td>14981.000000</td>\n",
       "    </tr>\n",
       "    <tr>\n",
       "      <th>mean</th>\n",
       "      <td>25.768281</td>\n",
       "      <td>7532.053149</td>\n",
       "      <td>291.997647</td>\n",
       "      <td>42372.917557</td>\n",
       "    </tr>\n",
       "    <tr>\n",
       "      <th>std</th>\n",
       "      <td>46.370881</td>\n",
       "      <td>3992.742693</td>\n",
       "      <td>370.929008</td>\n",
       "      <td>9874.696215</td>\n",
       "    </tr>\n",
       "    <tr>\n",
       "      <th>min</th>\n",
       "      <td>-17.860000</td>\n",
       "      <td>54.440000</td>\n",
       "      <td>0.000000</td>\n",
       "      <td>25566.511248</td>\n",
       "    </tr>\n",
       "    <tr>\n",
       "      <th>25%</th>\n",
       "      <td>18.042500</td>\n",
       "      <td>4134.730000</td>\n",
       "      <td>0.000000</td>\n",
       "      <td>35432.588663</td>\n",
       "    </tr>\n",
       "    <tr>\n",
       "      <th>50%</th>\n",
       "      <td>20.057500</td>\n",
       "      <td>7281.370000</td>\n",
       "      <td>22.150000</td>\n",
       "      <td>39935.131628</td>\n",
       "    </tr>\n",
       "    <tr>\n",
       "      <th>75%</th>\n",
       "      <td>25.030000</td>\n",
       "      <td>10851.640000</td>\n",
       "      <td>608.660000</td>\n",
       "      <td>47871.380668</td>\n",
       "    </tr>\n",
       "    <tr>\n",
       "      <th>max</th>\n",
       "      <td>2809.357500</td>\n",
       "      <td>20350.400000</td>\n",
       "      <td>1257.540000</td>\n",
       "      <td>73264.662123</td>\n",
       "    </tr>\n",
       "  </tbody>\n",
       "</table>\n",
       "</div>"
      ],
      "text/plain": [
       "       HB_NORTH (RTLMP)  ERCOT (WIND_RTI)  ERCOT (GENERATION_SOLAR_RT)  \\\n",
       "count      14981.000000      14981.000000                 14981.000000   \n",
       "mean          25.768281       7532.053149                   291.997647   \n",
       "std           46.370881       3992.742693                   370.929008   \n",
       "min          -17.860000         54.440000                     0.000000   \n",
       "25%           18.042500       4134.730000                     0.000000   \n",
       "50%           20.057500       7281.370000                    22.150000   \n",
       "75%           25.030000      10851.640000                   608.660000   \n",
       "max         2809.357500      20350.400000                  1257.540000   \n",
       "\n",
       "       ERCOT (RTLOAD)  \n",
       "count    14981.000000  \n",
       "mean     42372.917557  \n",
       "std       9874.696215  \n",
       "min      25566.511248  \n",
       "25%      35432.588663  \n",
       "50%      39935.131628  \n",
       "75%      47871.380668  \n",
       "max      73264.662123  "
      ]
     },
     "execution_count": 4,
     "metadata": {},
     "output_type": "execute_result"
    }
   ],
   "source": [
    "df.describe()"
   ]
  },
  {
   "cell_type": "code",
   "execution_count": 5,
   "metadata": {},
   "outputs": [
    {
     "data": {
      "text/plain": [
       "Text(0.5, 1.0, 'RTLOAD')"
      ]
     },
     "execution_count": 5,
     "metadata": {},
     "output_type": "execute_result"
    },
    {
     "data": {
      "image/png": "[encoded data removed]",
      "text/plain": [
       "<Figure size 1080x648 with 4 Axes>"
      ]
     },
     "metadata": {
      "needs_background": "light"
     },
     "output_type": "display_data"
    }
   ],
   "source": [
    "fig, ax = plt.subplots(2, 2, figsize=(15, 9))\n",
    "ax = ax.flatten()\n",
    "ax[0].hist(df[\"HB_NORTH (RTLMP)\"], bins=1000)\n",
    "ax[0].set_ylim(0, 1000)\n",
    "ax[0].set_title(\"RTLMP\")\n",
    "\n",
    "ax[1].hist(df[\"ERCOT (WIND_RTI)\"], bins=1000)\n",
    "ax[1].set_title(\"WIND_RTI\")\n",
    "\n",
    "ax[2].hist(df[\"ERCOT (GENERATION_SOLAR_RT)\"], bins=100)\n",
    "ax[2].set_ylim(0, 200)\n",
    "ax[2].set_title(\"GENERATION_SOLAR_RT\")\n",
    "\n",
    "ax[3].hist(df[\"ERCOT (RTLOAD)\"], bins=1000)\n",
    "ax[3].set_title(\"RTLOAD\")"
   ]
  },
  {
   "cell_type": "markdown",
   "metadata": {},
   "source": [
    "### Summarise of the distribution\n",
    "\n",
    "- RTLMP: The value has a high variance and many outliers, we need to remove these outliers before fitting.\n",
    "- WIND_RTI: This value is symmetric, which suggest we can use the normal distribution to approimate the data.\n",
    "- GENERATION_SOLAR_RT: Over 1/4 of the value is zero, and the data has a distribution of two peaks. And it has much smaller value than WIND_RTI, which suggest we can binerize the data by some threshold.\n",
    "- RTLOAD: The value is larger than zero and has a long tail. We can use gamma distribution to approximate the data."
   ]
  },
  {
   "cell_type": "markdown",
   "metadata": {},
   "source": [
    "### Remove the outliers for RTLMP"
   ]
  },
  {
   "cell_type": "markdown",
   "metadata": {},
   "source": [
    "We remove the data by moving the datapoint that is away from the mean 3 standard deviations. We do this for three times since the data is highly skewed."
   ]
  },
  {
   "cell_type": "code",
   "execution_count": 6,
   "metadata": {},
   "outputs": [],
   "source": [
    "for i in range(3):\n",
    "    df = df[\n",
    "        (df[\"HB_NORTH (RTLMP)\"].mean() - 3 * df[\"HB_NORTH (RTLMP)\"].std() <= df[\"HB_NORTH (RTLMP)\"]) \n",
    "            & (df[\"HB_NORTH (RTLMP)\"] <= df[\"HB_NORTH (RTLMP)\"].mean() + 3 * df[\"HB_NORTH (RTLMP)\"].std())\n",
    "    ]"
   ]
  },
  {
   "cell_type": "code",
   "execution_count": 7,
   "metadata": {},
   "outputs": [
    {
     "data": {
      "text/plain": [
       "Text(0.5, 1.0, 'RTLMP')"
      ]
     },
     "execution_count": 7,
     "metadata": {},
     "output_type": "execute_result"
    },
    {
     "data": {
      "image/png": "[encoded data removed]",
      "text/plain": [
       "<Figure size 432x288 with 1 Axes>"
      ]
     },
     "metadata": {
      "needs_background": "light"
     },
     "output_type": "display_data"
    }
   ],
   "source": [
    "plt.hist(df[\"HB_NORTH (RTLMP)\"], bins=1000)\n",
    "plt.title(\"RTLMP\")"
   ]
  },
  {
   "cell_type": "markdown",
   "metadata": {},
   "source": [
    "## Predict the RTLMP"
   ]
  },
  {
   "cell_type": "markdown",
   "metadata": {},
   "source": [
    "The predicting variables are\n",
    "\n",
    "- RTLOAD\n",
    "- WIND_RTI\n",
    "- PEAKTYPE (category)\n",
    "- GENERATION_SOLAR_RT (discritized)\n",
    "- MONTH (category)\n",
    "- HOUR (category)\n"
   ]
  },
  {
   "cell_type": "code",
   "execution_count": 8,
   "metadata": {},
   "outputs": [],
   "source": [
    "solar = (df[\"ERCOT (GENERATION_SOLAR_RT)\"] < 200).map({True: \"SOLAR\", False: \"NO_SOLAR\"})\n",
    "\n",
    "hours = df[\"DATETIME\"].dt.hour.astype(str)\n",
    "hours.name = \"hour\"\n",
    "monthes = df[\"DATETIME\"].apply(lambda x: x.strftime(\"%B\"))\n",
    "monthes.name = \"month\"\n",
    "\n",
    "X = pd.concat([pd.get_dummies(monthes), pd.get_dummies(hours), pd.get_dummies(solar), df[[\"ERCOT (RTLOAD)\", \"ERCOT (WIND_RTI)\"]], pd.get_dummies(df[\"PEAKTYPE\"])], axis=1)\n",
    "Y = df[\"HB_NORTH (RTLMP)\"]\n",
    "\n",
    "np.random.seed(0)\n",
    "train_index = np.random.choice(X.index, int(len(X) * 0.8), replace=False)\n",
    "X_train = X.loc[train_index]\n",
    "Y_train = Y.loc[train_index]\n",
    "X_test = X.drop(train_index)\n",
    "Y_test = Y.drop(train_index)"
   ]
  },
  {
   "cell_type": "code",
   "execution_count": 9,
   "metadata": {},
   "outputs": [
    {
     "data": {
      "text/html": [
       "<table class=\"simpletable\">\n",
       "<caption>OLS Regression Results</caption>\n",
       "<tr>\n",
       "  <th>Dep. Variable:</th>    <td>HB_NORTH (RTLMP)</td> <th>  R-squared:         </th> <td>   0.706</td> \n",
       "</tr>\n",
       "<tr>\n",
       "  <th>Model:</th>                   <td>OLS</td>       <th>  Adj. R-squared:    </th> <td>   0.705</td> \n",
       "</tr>\n",
       "<tr>\n",
       "  <th>Method:</th>             <td>Least Squares</td>  <th>  F-statistic:       </th> <td>   719.7</td> \n",
       "</tr>\n",
       "<tr>\n",
       "  <th>Date:</th>             <td>Mon, 23 May 2022</td> <th>  Prob (F-statistic):</th>  <td>  0.00</td>  \n",
       "</tr>\n",
       "<tr>\n",
       "  <th>Time:</th>                 <td>21:26:18</td>     <th>  Log-Likelihood:    </th> <td> -30936.</td> \n",
       "</tr>\n",
       "<tr>\n",
       "  <th>No. Observations:</th>      <td> 11439</td>      <th>  AIC:               </th> <td>6.195e+04</td>\n",
       "</tr>\n",
       "<tr>\n",
       "  <th>Df Residuals:</th>          <td> 11400</td>      <th>  BIC:               </th> <td>6.224e+04</td>\n",
       "</tr>\n",
       "<tr>\n",
       "  <th>Df Model:</th>              <td>    38</td>      <th>                     </th>     <td> </td>    \n",
       "</tr>\n",
       "<tr>\n",
       "  <th>Covariance Type:</th>      <td>nonrobust</td>    <th>                     </th>     <td> </td>    \n",
       "</tr>\n",
       "</table>\n",
       "<table class=\"simpletable\">\n",
       "<tr>\n",
       "          <td></td>            <th>coef</th>     <th>std err</th>      <th>t</th>      <th>P>|t|</th>  <th>[0.025</th>    <th>0.975]</th>  \n",
       "</tr>\n",
       "<tr>\n",
       "  <th>April</th>            <td>    3.2605</td> <td>    0.109</td> <td>   29.925</td> <td> 0.000</td> <td>    3.047</td> <td>    3.474</td>\n",
       "</tr>\n",
       "<tr>\n",
       "  <th>August</th>           <td>   -2.6351</td> <td>    0.135</td> <td>  -19.552</td> <td> 0.000</td> <td>   -2.899</td> <td>   -2.371</td>\n",
       "</tr>\n",
       "<tr>\n",
       "  <th>December</th>         <td>   -1.1951</td> <td>    0.144</td> <td>   -8.327</td> <td> 0.000</td> <td>   -1.476</td> <td>   -0.914</td>\n",
       "</tr>\n",
       "<tr>\n",
       "  <th>February</th>         <td>    1.3556</td> <td>    0.109</td> <td>   12.402</td> <td> 0.000</td> <td>    1.141</td> <td>    1.570</td>\n",
       "</tr>\n",
       "<tr>\n",
       "  <th>January</th>          <td>    2.3166</td> <td>    0.107</td> <td>   21.563</td> <td> 0.000</td> <td>    2.106</td> <td>    2.527</td>\n",
       "</tr>\n",
       "<tr>\n",
       "  <th>July</th>             <td>   -2.6609</td> <td>    0.141</td> <td>  -18.811</td> <td> 0.000</td> <td>   -2.938</td> <td>   -2.384</td>\n",
       "</tr>\n",
       "<tr>\n",
       "  <th>June</th>             <td>   -1.1862</td> <td>    0.130</td> <td>   -9.145</td> <td> 0.000</td> <td>   -1.440</td> <td>   -0.932</td>\n",
       "</tr>\n",
       "<tr>\n",
       "  <th>March</th>            <td>    1.8880</td> <td>    0.108</td> <td>   17.548</td> <td> 0.000</td> <td>    1.677</td> <td>    2.099</td>\n",
       "</tr>\n",
       "<tr>\n",
       "  <th>May</th>              <td>    1.6092</td> <td>    0.110</td> <td>   14.607</td> <td> 0.000</td> <td>    1.393</td> <td>    1.825</td>\n",
       "</tr>\n",
       "<tr>\n",
       "  <th>November</th>         <td>    0.7994</td> <td>    0.146</td> <td>    5.468</td> <td> 0.000</td> <td>    0.513</td> <td>    1.086</td>\n",
       "</tr>\n",
       "<tr>\n",
       "  <th>October</th>          <td>    0.0900</td> <td>    0.142</td> <td>    0.632</td> <td> 0.527</td> <td>   -0.189</td> <td>    0.369</td>\n",
       "</tr>\n",
       "<tr>\n",
       "  <th>September</th>        <td>   -1.8550</td> <td>    0.130</td> <td>  -14.283</td> <td> 0.000</td> <td>   -2.110</td> <td>   -1.600</td>\n",
       "</tr>\n",
       "<tr>\n",
       "  <th>0</th>                <td>   -0.5103</td> <td>    0.157</td> <td>   -3.245</td> <td> 0.001</td> <td>   -0.818</td> <td>   -0.202</td>\n",
       "</tr>\n",
       "<tr>\n",
       "  <th>1</th>                <td>    0.2632</td> <td>    0.154</td> <td>    1.707</td> <td> 0.088</td> <td>   -0.039</td> <td>    0.566</td>\n",
       "</tr>\n",
       "<tr>\n",
       "  <th>10</th>               <td>   -0.1444</td> <td>    0.167</td> <td>   -0.867</td> <td> 0.386</td> <td>   -0.471</td> <td>    0.182</td>\n",
       "</tr>\n",
       "<tr>\n",
       "  <th>11</th>               <td>   -0.2153</td> <td>    0.171</td> <td>   -1.258</td> <td> 0.208</td> <td>   -0.551</td> <td>    0.120</td>\n",
       "</tr>\n",
       "<tr>\n",
       "  <th>12</th>               <td>   -0.3020</td> <td>    0.171</td> <td>   -1.768</td> <td> 0.077</td> <td>   -0.637</td> <td>    0.033</td>\n",
       "</tr>\n",
       "<tr>\n",
       "  <th>13</th>               <td>    0.3516</td> <td>    0.174</td> <td>    2.019</td> <td> 0.044</td> <td>    0.010</td> <td>    0.693</td>\n",
       "</tr>\n",
       "<tr>\n",
       "  <th>14</th>               <td>    0.6003</td> <td>    0.174</td> <td>    3.447</td> <td> 0.001</td> <td>    0.259</td> <td>    0.942</td>\n",
       "</tr>\n",
       "<tr>\n",
       "  <th>15</th>               <td>    0.4703</td> <td>    0.179</td> <td>    2.623</td> <td> 0.009</td> <td>    0.119</td> <td>    0.822</td>\n",
       "</tr>\n",
       "<tr>\n",
       "  <th>16</th>               <td>    0.7028</td> <td>    0.184</td> <td>    3.811</td> <td> 0.000</td> <td>    0.341</td> <td>    1.064</td>\n",
       "</tr>\n",
       "<tr>\n",
       "  <th>17</th>               <td>    0.5648</td> <td>    0.180</td> <td>    3.139</td> <td> 0.002</td> <td>    0.212</td> <td>    0.918</td>\n",
       "</tr>\n",
       "<tr>\n",
       "  <th>18</th>               <td>    0.6508</td> <td>    0.172</td> <td>    3.778</td> <td> 0.000</td> <td>    0.313</td> <td>    0.988</td>\n",
       "</tr>\n",
       "<tr>\n",
       "  <th>19</th>               <td>    0.0122</td> <td>    0.170</td> <td>    0.072</td> <td> 0.943</td> <td>   -0.321</td> <td>    0.345</td>\n",
       "</tr>\n",
       "<tr>\n",
       "  <th>2</th>                <td>    0.2085</td> <td>    0.153</td> <td>    1.362</td> <td> 0.173</td> <td>   -0.092</td> <td>    0.508</td>\n",
       "</tr>\n",
       "<tr>\n",
       "  <th>20</th>               <td>   -0.2230</td> <td>    0.171</td> <td>   -1.305</td> <td> 0.192</td> <td>   -0.558</td> <td>    0.112</td>\n",
       "</tr>\n",
       "<tr>\n",
       "  <th>21</th>               <td>   -0.3835</td> <td>    0.191</td> <td>   -2.003</td> <td> 0.045</td> <td>   -0.759</td> <td>   -0.008</td>\n",
       "</tr>\n",
       "<tr>\n",
       "  <th>22</th>               <td>   -1.0174</td> <td>    0.188</td> <td>   -5.411</td> <td> 0.000</td> <td>   -1.386</td> <td>   -0.649</td>\n",
       "</tr>\n",
       "<tr>\n",
       "  <th>23</th>               <td>   -0.6614</td> <td>    0.163</td> <td>   -4.047</td> <td> 0.000</td> <td>   -0.982</td> <td>   -0.341</td>\n",
       "</tr>\n",
       "<tr>\n",
       "  <th>3</th>                <td>    0.0086</td> <td>    0.153</td> <td>    0.056</td> <td> 0.955</td> <td>   -0.291</td> <td>    0.308</td>\n",
       "</tr>\n",
       "<tr>\n",
       "  <th>4</th>                <td>   -0.1782</td> <td>    0.152</td> <td>   -1.174</td> <td> 0.240</td> <td>   -0.476</td> <td>    0.119</td>\n",
       "</tr>\n",
       "<tr>\n",
       "  <th>5</th>                <td>    0.3607</td> <td>    0.152</td> <td>    2.368</td> <td> 0.018</td> <td>    0.062</td> <td>    0.659</td>\n",
       "</tr>\n",
       "<tr>\n",
       "  <th>6</th>                <td>    0.7533</td> <td>    0.151</td> <td>    4.973</td> <td> 0.000</td> <td>    0.456</td> <td>    1.050</td>\n",
       "</tr>\n",
       "<tr>\n",
       "  <th>7</th>                <td>    0.4195</td> <td>    0.189</td> <td>    2.218</td> <td> 0.027</td> <td>    0.049</td> <td>    0.790</td>\n",
       "</tr>\n",
       "<tr>\n",
       "  <th>8</th>                <td>   -0.0001</td> <td>    0.184</td> <td>   -0.001</td> <td> 0.999</td> <td>   -0.361</td> <td>    0.360</td>\n",
       "</tr>\n",
       "<tr>\n",
       "  <th>9</th>                <td>    0.0563</td> <td>    0.161</td> <td>    0.351</td> <td> 0.726</td> <td>   -0.258</td> <td>    0.371</td>\n",
       "</tr>\n",
       "<tr>\n",
       "  <th>NO_SOLAR</th>         <td>    0.5520</td> <td>    0.179</td> <td>    3.082</td> <td> 0.002</td> <td>    0.201</td> <td>    0.903</td>\n",
       "</tr>\n",
       "<tr>\n",
       "  <th>SOLAR</th>            <td>    1.2352</td> <td>    0.156</td> <td>    7.937</td> <td> 0.000</td> <td>    0.930</td> <td>    1.540</td>\n",
       "</tr>\n",
       "<tr>\n",
       "  <th>ERCOT (RTLOAD)</th>   <td>    0.0006</td> <td> 6.78e-06</td> <td>   87.336</td> <td> 0.000</td> <td>    0.001</td> <td>    0.001</td>\n",
       "</tr>\n",
       "<tr>\n",
       "  <th>ERCOT (WIND_RTI)</th> <td>   -0.0007</td> <td> 9.44e-06</td> <td>  -73.543</td> <td> 0.000</td> <td>   -0.001</td> <td>   -0.001</td>\n",
       "</tr>\n",
       "<tr>\n",
       "  <th>OFFPEAK</th>          <td>    0.2443</td> <td>    0.109</td> <td>    2.234</td> <td> 0.026</td> <td>    0.030</td> <td>    0.459</td>\n",
       "</tr>\n",
       "<tr>\n",
       "  <th>WDPEAK</th>           <td>    0.6135</td> <td>    0.127</td> <td>    4.825</td> <td> 0.000</td> <td>    0.364</td> <td>    0.863</td>\n",
       "</tr>\n",
       "<tr>\n",
       "  <th>WEPEAK</th>           <td>    0.9294</td> <td>    0.119</td> <td>    7.790</td> <td> 0.000</td> <td>    0.696</td> <td>    1.163</td>\n",
       "</tr>\n",
       "</table>\n",
       "<table class=\"simpletable\">\n",
       "<tr>\n",
       "  <th>Omnibus:</th>       <td>1857.812</td> <th>  Durbin-Watson:     </th> <td>   2.007</td> \n",
       "</tr>\n",
       "<tr>\n",
       "  <th>Prob(Omnibus):</th>  <td> 0.000</td>  <th>  Jarque-Bera (JB):  </th> <td>10745.115</td>\n",
       "</tr>\n",
       "<tr>\n",
       "  <th>Skew:</th>           <td> 0.654</td>  <th>  Prob(JB):          </th> <td>    0.00</td> \n",
       "</tr>\n",
       "<tr>\n",
       "  <th>Kurtosis:</th>       <td> 7.564</td>  <th>  Cond. No.          </th> <td>1.43e+19</td> \n",
       "</tr>\n",
       "</table><br/><br/>Notes:<br/>[1] Standard Errors assume that the covariance matrix of the errors is correctly specified.<br/>[2] The smallest eigenvalue is 1.06e-25. This might indicate that there are<br/>strong multicollinearity problems or that the design matrix is singular."
      ],
      "text/plain": [
       "<class 'statsmodels.iolib.summary.Summary'>\n",
       "\"\"\"\n",
       "                            OLS Regression Results                            \n",
       "==============================================================================\n",
       "Dep. Variable:       HB_NORTH (RTLMP)   R-squared:                       0.706\n",
       "Model:                            OLS   Adj. R-squared:                  0.705\n",
       "Method:                 Least Squares   F-statistic:                     719.7\n",
       "Date:                Mon, 23 May 2022   Prob (F-statistic):               0.00\n",
       "Time:                        21:26:18   Log-Likelihood:                -30936.\n",
       "No. Observations:               11439   AIC:                         6.195e+04\n",
       "Df Residuals:                   11400   BIC:                         6.224e+04\n",
       "Df Model:                          38                                         \n",
       "Covariance Type:            nonrobust                                         \n",
       "====================================================================================\n",
       "                       coef    std err          t      P>|t|      [0.025      0.975]\n",
       "------------------------------------------------------------------------------------\n",
       "April                3.2605      0.109     29.925      0.000       3.047       3.474\n",
       "August              -2.6351      0.135    -19.552      0.000      -2.899      -2.371\n",
       "December            -1.1951      0.144     -8.327      0.000      -1.476      -0.914\n",
       "February             1.3556      0.109     12.402      0.000       1.141       1.570\n",
       "January              2.3166      0.107     21.563      0.000       2.106       2.527\n",
       "July                -2.6609      0.141    -18.811      0.000      -2.938      -2.384\n",
       "June                -1.1862      0.130     -9.145      0.000      -1.440      -0.932\n",
       "March                1.8880      0.108     17.548      0.000       1.677       2.099\n",
       "May                  1.6092      0.110     14.607      0.000       1.393       1.825\n",
       "November             0.7994      0.146      5.468      0.000       0.513       1.086\n",
       "October              0.0900      0.142      0.632      0.527      -0.189       0.369\n",
       "September           -1.8550      0.130    -14.283      0.000      -2.110      -1.600\n",
       "0                   -0.5103      0.157     -3.245      0.001      -0.818      -0.202\n",
       "1                    0.2632      0.154      1.707      0.088      -0.039       0.566\n",
       "10                  -0.1444      0.167     -0.867      0.386      -0.471       0.182\n",
       "11                  -0.2153      0.171     -1.258      0.208      -0.551       0.120\n",
       "12                  -0.3020      0.171     -1.768      0.077      -0.637       0.033\n",
       "13                   0.3516      0.174      2.019      0.044       0.010       0.693\n",
       "14                   0.6003      0.174      3.447      0.001       0.259       0.942\n",
       "15                   0.4703      0.179      2.623      0.009       0.119       0.822\n",
       "16                   0.7028      0.184      3.811      0.000       0.341       1.064\n",
       "17                   0.5648      0.180      3.139      0.002       0.212       0.918\n",
       "18                   0.6508      0.172      3.778      0.000       0.313       0.988\n",
       "19                   0.0122      0.170      0.072      0.943      -0.321       0.345\n",
       "2                    0.2085      0.153      1.362      0.173      -0.092       0.508\n",
       "20                  -0.2230      0.171     -1.305      0.192      -0.558       0.112\n",
       "21                  -0.3835      0.191     -2.003      0.045      -0.759      -0.008\n",
       "22                  -1.0174      0.188     -5.411      0.000      -1.386      -0.649\n",
       "23                  -0.6614      0.163     -4.047      0.000      -0.982      -0.341\n",
       "3                    0.0086      0.153      0.056      0.955      -0.291       0.308\n",
       "4                   -0.1782      0.152     -1.174      0.240      -0.476       0.119\n",
       "5                    0.3607      0.152      2.368      0.018       0.062       0.659\n",
       "6                    0.7533      0.151      4.973      0.000       0.456       1.050\n",
       "7                    0.4195      0.189      2.218      0.027       0.049       0.790\n",
       "8                   -0.0001      0.184     -0.001      0.999      -0.361       0.360\n",
       "9                    0.0563      0.161      0.351      0.726      -0.258       0.371\n",
       "NO_SOLAR             0.5520      0.179      3.082      0.002       0.201       0.903\n",
       "SOLAR                1.2352      0.156      7.937      0.000       0.930       1.540\n",
       "ERCOT (RTLOAD)       0.0006   6.78e-06     87.336      0.000       0.001       0.001\n",
       "ERCOT (WIND_RTI)    -0.0007   9.44e-06    -73.543      0.000      -0.001      -0.001\n",
       "OFFPEAK              0.2443      0.109      2.234      0.026       0.030       0.459\n",
       "WDPEAK               0.6135      0.127      4.825      0.000       0.364       0.863\n",
       "WEPEAK               0.9294      0.119      7.790      0.000       0.696       1.163\n",
       "==============================================================================\n",
       "Omnibus:                     1857.812   Durbin-Watson:                   2.007\n",
       "Prob(Omnibus):                  0.000   Jarque-Bera (JB):            10745.115\n",
       "Skew:                           0.654   Prob(JB):                         0.00\n",
       "Kurtosis:                       7.564   Cond. No.                     1.43e+19\n",
       "==============================================================================\n",
       "\n",
       "Notes:\n",
       "[1] Standard Errors assume that the covariance matrix of the errors is correctly specified.\n",
       "[2] The smallest eigenvalue is 1.06e-25. This might indicate that there are\n",
       "strong multicollinearity problems or that the design matrix is singular.\n",
       "\"\"\""
      ]
     },
     "execution_count": 9,
     "metadata": {},
     "output_type": "execute_result"
    }
   ],
   "source": [
    "lr = sm.OLS(Y_train, X_train)\n",
    "res = lr.fit()\n",
    "res.summary()"
   ]
  },
  {
   "cell_type": "code",
   "execution_count": 10,
   "metadata": {},
   "outputs": [
    {
     "name": "stdout",
     "output_type": "stream",
     "text": [
      "The MSE on the test set is  3.616\n",
      "The MAE on the test set is  2.526\n",
      "The R^2 on the test set is  0.699\n"
     ]
    }
   ],
   "source": [
    "diff = res.predict(X_test) - Y_test\n",
    "print(f\"The MSE on the test set is {np.linalg.norm(diff) / np.sqrt(len(Y_test)): .3f}\")\n",
    "print(f\"The MAE on the test set is {np.abs(diff).mean(): .3f}\")\n",
    "print(f\"The R^2 on the test set is {1 - np.linalg.norm(diff)**2 / (Y_test.var() * len(Y_test)): .3f}\")"
   ]
  }
 ],
 "metadata": {
  "interpreter": {
   "hash": "8b14037197921ed699b51d96fae1d73bd31268fe20208ba761fb11daf6f86a4f"
  },
  "kernelspec": {
   "display_name": "Python 3.9.7 ('base')",
   "language": "python",
   "name": "python3"
  },
  "language_info": {
   "codemirror_mode": {
    "name": "ipython",
    "version": 3
   },
   "file_extension": ".py",
   "mimetype": "text/x-python",
   "name": "python",
   "nbconvert_exporter": "python",
   "pygments_lexer": "ipython3",
   "version": "3.9.7"
  },
  "orig_nbformat": 4
 },
 "nbformat": 4,
 "nbformat_minor": 2
}
